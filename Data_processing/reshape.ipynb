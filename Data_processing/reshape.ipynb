{
 "cells": [
  {
   "cell_type": "code",
   "execution_count": 3,
   "source": [
    "import csv\n",
    "import numpy as np\n",
    "list = []\n",
    "with open('./test.csv', encoding='utf-8-sig') as csvfile:\n",
    "    rows = csv.reader(csvfile,delimiter=' ')\n",
    "    for row in rows:\n",
    "        list.append(int(row[0]))\n",
    "    arr_2d = np.reshape(list, (1176,1))  \n",
    "    print(arr_2d)"
   ],
   "outputs": [
    {
     "output_type": "stream",
     "name": "stdout",
     "text": [
      "[[154]\n",
      " [212]\n",
      " [  4]\n",
      " ...\n",
      " [  0]\n",
      " [  0]\n",
      " [  0]]\n"
     ]
    }
   ],
   "metadata": {
    "scrolled": true
   }
  },
  {
   "cell_type": "code",
   "execution_count": 2,
   "source": [
    "a = np.transpose(arr_2d)\n",
    "print(a)\n",
    "result = a.flatten()"
   ],
   "outputs": [
    {
     "output_type": "stream",
     "name": "stdout",
     "text": [
      "[[154 212   4 ...   0   0   0]]\n"
     ]
    }
   ],
   "metadata": {}
  },
  {
   "cell_type": "code",
   "execution_count": 4,
   "source": [
    "np.savetxt(\"../number/number_conv1_out.csv\", result, delimiter =\",\",fmt ='% s')"
   ],
   "outputs": [],
   "metadata": {}
  },
  {
   "cell_type": "code",
   "execution_count": null,
   "source": [],
   "outputs": [],
   "metadata": {}
  }
 ],
 "metadata": {
  "kernelspec": {
   "display_name": "Python 3",
   "language": "python",
   "name": "python3"
  },
  "language_info": {
   "codemirror_mode": {
    "name": "ipython",
    "version": 3
   },
   "file_extension": ".py",
   "mimetype": "text/x-python",
   "name": "python",
   "nbconvert_exporter": "python",
   "pygments_lexer": "ipython3",
   "version": "3.8.8"
  }
 },
 "nbformat": 4,
 "nbformat_minor": 5
}