{
 "cells": [
  {
   "cell_type": "code",
   "execution_count": 39,
   "source": [
    "import csv\r\n",
    "import numpy as np\r\n",
    "\r\n",
    "list = []\r\n",
    "with open('./letter/letter_358_in.csv', encoding='utf-8-sig') as csvfile:\r\n",
    "    rows = csv.reader(csvfile,delimiter=' ')\r\n",
    "    for r in rows:\r\n",
    "        list.append(int(r[0]))\r\n",
    "l_i_hex1 = ['{:02x}'.format(i) for i in list]\r\n",
    "arr_2d = np.reshape(l_i_hex1, (256,4))  \r\n",
    "print(arr_2d)\r\n",
    "\r\n",
    "\r\n",
    "        \r\n"
   ],
   "outputs": [
    {
     "output_type": "stream",
     "name": "stdout",
     "text": [
      "[['00' '00' '00' '00']\n",
      " ['00' '00' '00' '00']\n",
      " ['00' '00' '00' '00']\n",
      " ...\n",
      " ['00' '00' '00' '00']\n",
      " ['00' '00' '00' '00']\n",
      " ['00' '00' '00' '00']]\n"
     ]
    }
   ],
   "metadata": {}
  },
  {
   "cell_type": "code",
   "execution_count": 6,
   "source": [
    "np.savetxt(\"./number/number_fc2_out.csv\", arr_2d, delimiter =\",\",fmt ='% s')"
   ],
   "outputs": [],
   "metadata": {}
  },
  {
   "cell_type": "code",
   "execution_count": 41,
   "source": [
    "np.savetxt(\"./letter/letter_test.hex\", arr_2d, delimiter =\"\",fmt ='% s')"
   ],
   "outputs": [],
   "metadata": {}
  },
  {
   "cell_type": "code",
   "execution_count": 43,
   "source": [
    "import pandas as pd\r\n",
    "\r\n",
    "read_file = pd.read_excel('number_mnist.xlsx')\r\n",
    "read_file.to_csv ('number_mnist.csv', index = None, header=True)"
   ],
   "outputs": [],
   "metadata": {}
  },
  {
   "cell_type": "code",
   "execution_count": null,
   "source": [
    "import pandas as pd\r\n",
    "df = pd.read_csv(csv_file)\r\n",
    "saved_column = df.column_name #you can also use df['column_name']"
   ],
   "outputs": [],
   "metadata": {}
  }
 ],
 "metadata": {
  "kernelspec": {
   "display_name": "Python 3",
   "language": "python",
   "name": "python3"
  },
  "language_info": {
   "codemirror_mode": {
    "name": "ipython",
    "version": 3
   },
   "file_extension": ".py",
   "mimetype": "text/x-python",
   "name": "python",
   "nbconvert_exporter": "python",
   "pygments_lexer": "ipython3",
   "version": "3.8.8"
  }
 },
 "nbformat": 4,
 "nbformat_minor": 5
}